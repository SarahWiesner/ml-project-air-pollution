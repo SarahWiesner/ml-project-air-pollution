{
 "cells": [
  {
   "attachments": {},
   "cell_type": "markdown",
   "metadata": {},
   "source": [
    "# \"A breath of fresh air\" - ML model training notebook"
   ]
  },
  {
   "cell_type": "code",
   "execution_count": 1,
   "metadata": {},
   "outputs": [],
   "source": [
    "# import libraries and tools\n",
    "import pandas as pd\n",
    "import numpy as np\n",
    "import missingno as msno\n",
    "import metpy.calc\n",
    "from metpy.units import units\n",
    "\n",
    "import matplotlib.pyplot as plt\n",
    "import seaborn as sns\n",
    "import plotly.express as px\n",
    "\n",
    "\n",
    "from sklearn.pipeline import Pipeline\n",
    "from sklearn.model_selection import cross_val_score, train_test_split\n",
    "from sklearn.metrics import mean_squared_error, r2_score, classification_report, confusion_matrix, fbeta_score, make_scorer\n",
    "from sklearn.linear_model import LinearRegression, LogisticRegression\n",
    "from sklearn.model_selection import GridSearchCV, RandomizedSearchCV\n",
    "\n",
    "\n",
    "\n",
    "from variable_names import vars_drop\n",
    "\n",
    "import preprocessing_pipeline as prepro\n",
    "import feature_engineering as feng\n",
    "\n",
    "import warnings\n",
    "warnings.filterwarnings('ignore')\n",
    "\n",
    "# eye candy plots\n",
    "plt.style.use('https://github.com/dhaitz/matplotlib-stylesheets/raw/master/pitayasmoothie-dark.mplstyle')\n",
    "# source https://github.com/dhaitz/matplotlib-stylesheets\n"
   ]
  },
  {
   "cell_type": "markdown",
   "metadata": {},
   "source": [
    "#### Get data and cleaning"
   ]
  },
  {
   "cell_type": "code",
   "execution_count": 2,
   "metadata": {},
   "outputs": [],
   "source": [
    "# get data\n",
    "df = pd.read_csv('data/Train.csv')\n",
    "## Throw out unwanted variables\n",
    "df.drop(vars_drop, axis=1, inplace=True)\n",
    "# Convert wind cartesional components to magnitude and direction \n",
    "df = feng.create_wind(df)\n",
    "# Convert time to datetime and create day-of-week column\n",
    "df = feng.time_features(df)\n",
    "# Convert target from float into category labels\n",
    "df = feng.create_target_labels(df)\n",
    "## Throw out variables with less than 15 features\n",
    "df.dropna(thresh=15, inplace=True)\n",
    "\n",
    "# Create prior features\n",
    "df = feng.prior_features(df)"
   ]
  },
  {
   "cell_type": "markdown",
   "metadata": {},
   "source": []
  },
  {
   "attachments": {},
   "cell_type": "markdown",
   "metadata": {},
   "source": [
    "#### Define preprocessor and split data"
   ]
  },
  {
   "cell_type": "code",
   "execution_count": 3,
   "metadata": {},
   "outputs": [
    {
     "name": "stdout",
     "output_type": "stream",
     "text": [
      "X_train shape is(21269, 29), y_train shape is (21269,)\n",
      "X_test shape is(9115, 29), y_test shape is (9115,)\n"
     ]
    }
   ],
   "source": [
    "non_qnt_cols = ['Place_ID','Date','Place_ID X Date','target','target_cat']\n",
    "qnt_cols = [col for col in df.columns.to_list() if col not in non_qnt_cols]\n",
    "cat_cols = ['Place_ID','weekday']\n",
    "\n",
    "### Define the preprocessor\n",
    "\n",
    "preprocessor = prepro.make_pipeline(qnt_cols,cat_cols)\n",
    "\n",
    "## To make time spit, first drop numerical target and unnecessary categories\n",
    "## Keep target_cat as part of the dataframe\n",
    "\n",
    "df.drop(['Place_ID X Date','target'], axis=1, inplace=True)\n",
    "#Perform test train split for time series data\n",
    "X_train, X_test, y_train, y_test = prepro.test_train_time_split(df,\n",
    "                                                         target_name='target_cat',\n",
    "                                                         date_name='Date',\n",
    "                                                         test_size=0.3)\n",
    "\n",
    "print(f'X_train shape is{X_train.shape}, y_train shape is {y_train.shape}')\n",
    "print(f'X_test shape is{X_test.shape}, y_test shape is {y_test.shape}')"
   ]
  },
  {
   "cell_type": "markdown",
   "metadata": {},
   "source": [
    "## Rebalance classes in new dataset"
   ]
  },
  {
   "cell_type": "code",
   "execution_count": 4,
   "metadata": {},
   "outputs": [],
   "source": [
    "from imblearn.pipeline import Pipeline\n",
    "from imblearn.over_sampling import RandomOverSampler\n",
    "from imblearn.under_sampling import RandomUnderSampler\n",
    "\n",
    "val_cts = y_train.value_counts() # the current counts of each class\n",
    "vc_min = val_cts.min() # the minimun class\n",
    "\n",
    "# reduce the larger classes so that they are halfway to min\n",
    "vc_rus = (val_cts - vc_min)//2 + vc_min \n",
    "rus = RandomUnderSampler(sampling_strategy={0: vc_rus[0], 1: vc_rus[1], 2: vc_rus[2]})\n",
    "\n",
    "# oversample the smaller classes so that they equal the max class\n",
    "ros = RandomOverSampler()\n",
    "\n",
    "X_res, y_res = rus.fit_resample(X_train,y_train)\n",
    "X_res, y_res = ros.fit_resample(X_res,y_res)"
   ]
  },
  {
   "cell_type": "code",
   "execution_count": 5,
   "metadata": {},
   "outputs": [
    {
     "data": {
      "text/plain": [
       "0    7966\n",
       "1    7966\n",
       "2    7966\n",
       "Name: target_cat, dtype: int64"
      ]
     },
     "execution_count": 5,
     "metadata": {},
     "output_type": "execute_result"
    }
   ],
   "source": [
    "y_res.value_counts()"
   ]
  },
  {
   "cell_type": "code",
   "execution_count": 6,
   "metadata": {},
   "outputs": [],
   "source": [
    "def print_results(y_true,y_pred):\n",
    "    print(f\"Average class-weighted f-beta score is {fbeta_score(y_true,y_pred,beta=2,average='weighted'):.2f}\")\n",
    "    print('-------'*10)\n",
    "    labels = [0,1,2]\n",
    "    conf = confusion_matrix(y_true,y_pred,labels=labels)\n",
    "    \n",
    "\n",
    "    sns.heatmap(conf,annot=True,fmt='g', xticklabels=labels, yticklabels=labels);\n",
    "    print(classification_report(y_true, y_pred,labels=labels))\n",
    "\n",
    "\n",
    "## Make a scorer for the gridsearch\n",
    "fbeta2_scorer = make_scorer(fbeta_score, beta=2, average='weighted')\n"
   ]
  },
  {
   "attachments": {},
   "cell_type": "markdown",
   "metadata": {},
   "source": [
    "#### Baseline model"
   ]
  },
  {
   "cell_type": "code",
   "execution_count": 7,
   "metadata": {},
   "outputs": [
    {
     "name": "stdout",
     "output_type": "stream",
     "text": [
      "Best parameters: {'log_reg__max_iter': 1000}\n",
      "Average class-weighted f-beta score is 0.69\n",
      "----------------------------------------------------------------------\n",
      "              precision    recall  f1-score   support\n",
      "\n",
      "           0       0.64      0.73      0.68      2274\n",
      "           1       0.47      0.47      0.47      2365\n",
      "           2       0.84      0.78      0.81      4476\n",
      "\n",
      "    accuracy                           0.69      9115\n",
      "   macro avg       0.65      0.66      0.65      9115\n",
      "weighted avg       0.69      0.69      0.69      9115\n",
      "\n"
     ]
    },
    {
     "data": {
      "image/png": "[encoded data removed]",
      "text/plain": [
       "<Figure size 640x480 with 2 Axes>"
      ]
     },
     "metadata": {},
     "output_type": "display_data"
    }
   ],
   "source": [
    "param_grid = {'log_reg__max_iter': [1000,]} \n",
    "## NOTE! Your paramgrid for model parameters must have the name of your model\n",
    "## in the pipeline separated by two underscores. See here:\n",
    "## log_reg + __ + parameter name\n",
    "\n",
    "### Create a pipeline with the chosen baseline model and preprocessor\n",
    "base_log = Pipeline([\n",
    "    ('preprocessor', preprocessor),\n",
    "    ('log_reg', LogisticRegression())\n",
    "])\n",
    "\n",
    "\n",
    "#Create a gridsearch for cross validation\n",
    "gs_baseline = GridSearchCV(base_log, param_grid=param_grid, cv=5, scoring=fbeta2_scorer, \n",
    "                           verbose=0, n_jobs=-1)\n",
    "\n",
    "\n",
    "## Fit the model using gridsearch and get best model\n",
    "gs_baseline.fit(X_res, y_res)\n",
    "best_model = gs_baseline.best_estimator_\n",
    "\n",
    "## Make predictions on test set\n",
    "y_pred = best_model.predict(X_test)\n",
    "\n",
    "## print the results\n",
    "print('Best parameters:', gs_baseline.best_params_)\n",
    "print_results(y_test,y_pred)"
   ]
  },
  {
   "attachments": {},
   "cell_type": "markdown",
   "metadata": {},
   "source": [
    "#### Logistic Regression\n"
   ]
  },
  {
   "cell_type": "code",
   "execution_count": 42,
   "metadata": {},
   "outputs": [
    {
     "name": "stderr",
     "output_type": "stream",
     "text": [
      "/Users/sarahwiesner/neuefische/ml-project-air-pollution/.venv/lib/python3.9/site-packages/sklearn/linear_model/_sag.py:352: ConvergenceWarning: The max_iter was reached which means the coef_ did not converge\n",
      "  warnings.warn(\n",
      "/Users/sarahwiesner/neuefische/ml-project-air-pollution/.venv/lib/python3.9/site-packages/sklearn/linear_model/_sag.py:352: ConvergenceWarning: The max_iter was reached which means the coef_ did not converge\n",
      "  warnings.warn(\n",
      "/Users/sarahwiesner/neuefische/ml-project-air-pollution/.venv/lib/python3.9/site-packages/sklearn/linear_model/_sag.py:352: ConvergenceWarning: The max_iter was reached which means the coef_ did not converge\n",
      "  warnings.warn(\n",
      "/Users/sarahwiesner/neuefische/ml-project-air-pollution/.venv/lib/python3.9/site-packages/sklearn/linear_model/_sag.py:352: ConvergenceWarning: The max_iter was reached which means the coef_ did not converge\n",
      "  warnings.warn(\n",
      "/Users/sarahwiesner/neuefische/ml-project-air-pollution/.venv/lib/python3.9/site-packages/sklearn/linear_model/_sag.py:352: ConvergenceWarning: The max_iter was reached which means the coef_ did not converge\n",
      "  warnings.warn(\n",
      "/Users/sarahwiesner/neuefische/ml-project-air-pollution/.venv/lib/python3.9/site-packages/sklearn/linear_model/_sag.py:352: ConvergenceWarning: The max_iter was reached which means the coef_ did not converge\n",
      "  warnings.warn(\n",
      "/Users/sarahwiesner/neuefische/ml-project-air-pollution/.venv/lib/python3.9/site-packages/sklearn/linear_model/_sag.py:352: ConvergenceWarning: The max_iter was reached which means the coef_ did not converge\n",
      "  warnings.warn(\n",
      "/Users/sarahwiesner/neuefische/ml-project-air-pollution/.venv/lib/python3.9/site-packages/sklearn/linear_model/_sag.py:352: ConvergenceWarning: The max_iter was reached which means the coef_ did not converge\n",
      "  warnings.warn(\n",
      "/Users/sarahwiesner/neuefische/ml-project-air-pollution/.venv/lib/python3.9/site-packages/sklearn/linear_model/_sag.py:352: ConvergenceWarning: The max_iter was reached which means the coef_ did not converge\n",
      "  warnings.warn(\n",
      "/Users/sarahwiesner/neuefische/ml-project-air-pollution/.venv/lib/python3.9/site-packages/sklearn/linear_model/_sag.py:352: ConvergenceWarning: The max_iter was reached which means the coef_ did not converge\n",
      "  warnings.warn(\n",
      "/Users/sarahwiesner/neuefische/ml-project-air-pollution/.venv/lib/python3.9/site-packages/sklearn/linear_model/_sag.py:352: ConvergenceWarning: The max_iter was reached which means the coef_ did not converge\n",
      "  warnings.warn(\n",
      "/Users/sarahwiesner/neuefische/ml-project-air-pollution/.venv/lib/python3.9/site-packages/sklearn/linear_model/_sag.py:352: ConvergenceWarning: The max_iter was reached which means the coef_ did not converge\n",
      "  warnings.warn(\n",
      "/Users/sarahwiesner/neuefische/ml-project-air-pollution/.venv/lib/python3.9/site-packages/sklearn/linear_model/_sag.py:352: ConvergenceWarning: The max_iter was reached which means the coef_ did not converge\n",
      "  warnings.warn(\n",
      "/Users/sarahwiesner/neuefische/ml-project-air-pollution/.venv/lib/python3.9/site-packages/sklearn/linear_model/_sag.py:352: ConvergenceWarning: The max_iter was reached which means the coef_ did not converge\n",
      "  warnings.warn(\n",
      "/Users/sarahwiesner/neuefische/ml-project-air-pollution/.venv/lib/python3.9/site-packages/sklearn/linear_model/_sag.py:352: ConvergenceWarning: The max_iter was reached which means the coef_ did not converge\n",
      "  warnings.warn(\n",
      "/Users/sarahwiesner/neuefische/ml-project-air-pollution/.venv/lib/python3.9/site-packages/sklearn/linear_model/_sag.py:352: ConvergenceWarning: The max_iter was reached which means the coef_ did not converge\n",
      "  warnings.warn(\n",
      "/Users/sarahwiesner/neuefische/ml-project-air-pollution/.venv/lib/python3.9/site-packages/sklearn/linear_model/_sag.py:352: ConvergenceWarning: The max_iter was reached which means the coef_ did not converge\n",
      "  warnings.warn(\n",
      "/Users/sarahwiesner/neuefische/ml-project-air-pollution/.venv/lib/python3.9/site-packages/sklearn/linear_model/_sag.py:352: ConvergenceWarning: The max_iter was reached which means the coef_ did not converge\n",
      "  warnings.warn(\n",
      "/Users/sarahwiesner/neuefische/ml-project-air-pollution/.venv/lib/python3.9/site-packages/sklearn/linear_model/_sag.py:352: ConvergenceWarning: The max_iter was reached which means the coef_ did not converge\n",
      "  warnings.warn(\n",
      "/Users/sarahwiesner/neuefische/ml-project-air-pollution/.venv/lib/python3.9/site-packages/sklearn/linear_model/_sag.py:352: ConvergenceWarning: The max_iter was reached which means the coef_ did not converge\n",
      "  warnings.warn(\n",
      "/Users/sarahwiesner/neuefische/ml-project-air-pollution/.venv/lib/python3.9/site-packages/sklearn/linear_model/_sag.py:352: ConvergenceWarning: The max_iter was reached which means the coef_ did not converge\n",
      "  warnings.warn(\n",
      "/Users/sarahwiesner/neuefische/ml-project-air-pollution/.venv/lib/python3.9/site-packages/sklearn/linear_model/_sag.py:352: ConvergenceWarning: The max_iter was reached which means the coef_ did not converge\n",
      "  warnings.warn(\n",
      "/Users/sarahwiesner/neuefische/ml-project-air-pollution/.venv/lib/python3.9/site-packages/sklearn/linear_model/_sag.py:352: ConvergenceWarning: The max_iter was reached which means the coef_ did not converge\n",
      "  warnings.warn(\n",
      "/Users/sarahwiesner/neuefische/ml-project-air-pollution/.venv/lib/python3.9/site-packages/sklearn/linear_model/_sag.py:352: ConvergenceWarning: The max_iter was reached which means the coef_ did not converge\n",
      "  warnings.warn(\n",
      "/Users/sarahwiesner/neuefische/ml-project-air-pollution/.venv/lib/python3.9/site-packages/sklearn/linear_model/_sag.py:352: ConvergenceWarning: The max_iter was reached which means the coef_ did not converge\n",
      "  warnings.warn(\n",
      "/Users/sarahwiesner/neuefische/ml-project-air-pollution/.venv/lib/python3.9/site-packages/sklearn/linear_model/_sag.py:352: ConvergenceWarning: The max_iter was reached which means the coef_ did not converge\n",
      "  warnings.warn(\n",
      "/Users/sarahwiesner/neuefische/ml-project-air-pollution/.venv/lib/python3.9/site-packages/sklearn/linear_model/_sag.py:352: ConvergenceWarning: The max_iter was reached which means the coef_ did not converge\n",
      "  warnings.warn(\n",
      "/Users/sarahwiesner/neuefische/ml-project-air-pollution/.venv/lib/python3.9/site-packages/sklearn/linear_model/_sag.py:352: ConvergenceWarning: The max_iter was reached which means the coef_ did not converge\n",
      "  warnings.warn(\n",
      "/Users/sarahwiesner/neuefische/ml-project-air-pollution/.venv/lib/python3.9/site-packages/sklearn/linear_model/_sag.py:352: ConvergenceWarning: The max_iter was reached which means the coef_ did not converge\n",
      "  warnings.warn(\n"
     ]
    },
    {
     "name": "stdout",
     "output_type": "stream",
     "text": [
      "Best parameters: {'log_reg__C': 20.0, 'log_reg__max_iter': 1000, 'log_reg__solver': 'saga'}\n",
      "Average class-weighted f-beta score is 0.69\n",
      "----------------------------------------------------------------------\n",
      "              precision    recall  f1-score   support\n",
      "\n",
      "           0       0.65      0.72      0.68      2274\n",
      "           1       0.50      0.35      0.41      2365\n",
      "           2       0.78      0.87      0.83      4476\n",
      "\n",
      "    accuracy                           0.70      9115\n",
      "   macro avg       0.65      0.65      0.64      9115\n",
      "weighted avg       0.68      0.70      0.68      9115\n",
      "\n"
     ]
    },
    {
     "data": {
      "image/png": "[encoded data removed]",
      "text/plain": [
       "<Figure size 640x480 with 2 Axes>"
      ]
     },
     "metadata": {},
     "output_type": "display_data"
    }
   ],
   "source": [
    "param_grid = {'log_reg__max_iter': [1000, 2000, 3000],\n",
    "                'log_reg__C': [1.0, 10.0, 20.0, 30.0],\n",
    "                'log_reg__solver': ['newton-cg', 'lbfgs', 'liblinear', 'sag', 'saga']} \n",
    "## NOTE! Your paramgrid for model parameters must have the name of your model\n",
    "## in the pipeline separated by two underscores. See here:\n",
    "## log_reg + __ + parameter name\n",
    "\n",
    "### Create a pipeline with the chosen model and preprocessor\n",
    "logr = Pipeline([\n",
    "    ('preprocessor', preprocessor),\n",
    "    ('log_reg', LogisticRegression())\n",
    "])\n",
    "\n",
    "\n",
    "# Create a gridsearch for cross validation\n",
    "gs_logr = GridSearchCV(logr, param_grid=param_grid, cv=5, scoring=fbeta2_scorer, \n",
    "                            verbose=0, n_jobs=-1)\n",
    "\n",
    "\n",
    "\n",
    "## Fit the model using gridsearch and get best model\n",
    "gs_logr.fit(X_train, y_train)\n",
    "best_model = gs_logr.best_estimator_\n",
    "\n",
    "## Make predictions on test set\n",
    "y_pred = best_model.predict(X_test)\n",
    "\n",
    "## print the results\n",
    "print('Best parameters:', gs_logr.best_params_)\n",
    "print_results(y_test,y_pred)"
   ]
  },
  {
   "cell_type": "code",
   "execution_count": null,
   "metadata": {},
   "outputs": [],
   "source": []
  }
 ],
 "metadata": {
  "kernelspec": {
   "display_name": ".venv",
   "language": "python",
   "name": "python3"
  },
  "language_info": {
   "codemirror_mode": {
    "name": "ipython",
    "version": 3
   },
   "file_extension": ".py",
   "mimetype": "text/x-python",
   "name": "python",
   "nbconvert_exporter": "python",
   "pygments_lexer": "ipython3",
   "version": "3.9.8"
  },
  "vscode": {
   "interpreter": {
    "hash": "860aa0b7d6d44e7b74ed2e8b904a746270bd7f9d8aef854c41290a36ffe5ee07"
   }
  }
 },
 "nbformat": 4,
 "nbformat_minor": 4
}
